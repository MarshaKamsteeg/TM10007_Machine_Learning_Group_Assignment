{
  "nbformat": 4,
  "nbformat_minor": 0,
  "metadata": {
    "colab": {
      "name": "tm10007_group_9_code.ipynb",
      "provenance": [],
      "collapsed_sections": [],
      "include_colab_link": true
    },
    "kernelspec": {
      "name": "python3",
      "display_name": "Python 3"
    },
    "language_info": {
      "name": "python"
    }
  },
  "cells": [
    {
      "cell_type": "markdown",
      "metadata": {
        "id": "view-in-github",
        "colab_type": "text"
      },
      "source": [
        "<a href=\"https://colab.research.google.com/github/MarshaKamsteeg/TM10007_Machine_Learning_Group_Assignment/blob/main/tm10007_group_9_code.ipynb\" target=\"_parent\"><img src=\"https://colab.research.google.com/assets/colab-badge.svg\" alt=\"Open In Colab\"/></a>"
      ]
    },
    {
      "cell_type": "markdown",
      "metadata": {
        "id": "7SXpaKwwGe5x"
      },
      "source": [
        "# TM10007 Assignment"
      ]
    },
    {
      "cell_type": "code",
      "execution_count": 1,
      "metadata": {
        "id": "CiDn2Sk-VWqE",
        "outputId": "9fcdb18d-2be8-4080-a285-174d69732abf",
        "colab": {
          "base_uri": "https://localhost:8080/"
        }
      },
      "outputs": [
        {
          "output_type": "stream",
          "name": "stdout",
          "text": [
            "  Building wheel for brats (setup.py) ... \u001b[?25l\u001b[?25hdone\n"
          ]
        }
      ],
      "source": [
        "# Run this to use from colab environment\n",
        "!pip install -q --upgrade git+https://github.com/karinvangarderen/tm10007_project.git"
      ]
    },
    {
      "cell_type": "markdown",
      "metadata": {
        "id": "ghYv2pEkF8Eg"
      },
      "source": [
        "## Description of data set\n",
        "Import data from the ADNI dataset. Find empty values if present. "
      ]
    },
    {
      "cell_type": "code",
      "execution_count": 2,
      "metadata": {
        "id": "-NE_fTbKGe5z",
        "outputId": "04df4d3c-075d-4786-e28c-c52c846ad609",
        "colab": {
          "base_uri": "https://localhost:8080/"
        }
      },
      "outputs": [
        {
          "output_type": "stream",
          "name": "stdout",
          "text": [
            "Total number of samples: 855\n",
            "Total number of columns: 268\n",
            "Total amount of features: 266\n",
            "There are no empty values found.\n",
            "Within the dataset 519 samples are from people with Alzheimer Disease\n",
            "The other 336 samples are from people without Alzheimer Disease\n"
          ]
        },
        {
          "output_type": "stream",
          "name": "stderr",
          "text": [
            "/usr/local/lib/python3.7/dist-packages/ipykernel_launcher.py:17: DeprecationWarning: The truth value of an empty array is ambiguous. Returning False, but in future this will result in an error. Use `array.size > 0` to check that an array is not empty.\n"
          ]
        }
      ],
      "source": [
        "# Import Data\n",
        "from adni.load_data import load_data\n",
        "import numpy as np\n",
        "import pandas as pd\n",
        "\n",
        "# Import Data\n",
        "data = load_data()\n",
        "data_pandas = pd.DataFrame(data)\n",
        "print(f'Total number of samples: {len(data.index)}')\n",
        "print(f'Total number of columns: {len(data.columns)}')\n",
        "print(f'Total amount of features: {len(data.columns)-2}')\n",
        "\n",
        "# Find empty / NaN entry in pandas dataframe\n",
        "data_pandas = data_pandas.replace(' ', np.nan) \n",
        "empty_values = np.where(pd.isnull(data_pandas))\n",
        "\n",
        "if ~empty_values[0] == []:\n",
        "  print(f'Empty values can be found at index {empty_values}')\n",
        "else:\n",
        "  print('There are no empty values found.')\n",
        "  pass\n",
        "\n",
        "# Percentage AD and CN\n",
        "number_AD = data_pandas['label'].value_counts()['AD']\n",
        "number_CN = data_pandas['label'].value_counts()['CN']\n",
        "print(f\"Within the dataset {number_AD} samples are from people with Alzheimer Disease\")\n",
        "print(f\"The other {number_CN} samples are from people without Alzheimer Disease\") \n"
      ]
    },
    {
      "cell_type": "markdown",
      "source": [
        "# Preprocessing of the data"
      ],
      "metadata": {
        "id": "ZQTiKJ50EHlZ"
      }
    },
    {
      "cell_type": "markdown",
      "source": [
        "## Dividing data in a designset (80%) and testset (20%)"
      ],
      "metadata": {
        "id": "fTizaTtFMVOw"
      }
    },
    {
      "cell_type": "code",
      "source": [
        "# import modules\n",
        "from sklearn.model_selection import train_test_split\n",
        "\n",
        "# Divide data in label and feature set \n",
        "labels = data['label']\n",
        "features = data.drop(columns=['label'])\n",
        "\n",
        "# Divide data in trainingsset (80%) and testset (20%) stratified for the label\n",
        "data_designset, data_testset, label_designset, label_testset = train_test_split(features, labels, test_size=.2, random_state=1, stratify=data['label'])\n",
        "\n",
        "# Check the stratification \n",
        "percent_AD_train = (label_designset.value_counts()['AD'])/len(label_designset)*100\n",
        "percent_CN_train = (label_designset.value_counts()['CN'])/len(label_designset)*100\n",
        "percent_AD_test = (label_testset.value_counts()['AD'])/len(label_testset)*100\n",
        "percent_CN_test = (label_testset.value_counts()['CN'])/len(label_testset)*100\n",
        "\n",
        "print(f\"{percent_AD_train:.2f}% of the train data are Alzheimer disease samples.\")\n",
        "print(f\"{percent_CN_train:.2f}% of the train data are control samples.\")\n",
        "print(f\"{percent_AD_test:.2f}% of the test data are Alzheimer disease samples.\")\n",
        "print(f\"{percent_CN_test:.2f}% of the test data are control samples.\")\n"
      ],
      "metadata": {
        "id": "D-_lSnqzDCao",
        "colab": {
          "base_uri": "https://localhost:8080/"
        },
        "outputId": "0864b415-b827-4521-d3b3-961c9b6bd3b4"
      },
      "execution_count": 3,
      "outputs": [
        {
          "output_type": "stream",
          "name": "stdout",
          "text": [
            "60.67% of the train data are Alzheimer disease samples.\n",
            "39.33% of the train data are control samples.\n",
            "60.82% of the test data are Alzheimer disease samples.\n",
            "39.18% of the test data are control samples.\n"
          ]
        }
      ]
    },
    {
      "cell_type": "markdown",
      "source": [
        "## Feature Dropping"
      ],
      "metadata": {
        "id": "5Cle-UrdMhyx"
      }
    },
    {
      "cell_type": "markdown",
      "source": [
        "Find columns where > 90% of the column has value zero. Remove the features if this is true. Besides, remove features if the whole column has one unique value. "
      ],
      "metadata": {
        "id": "EBORbJjgJM-S"
      }
    },
    {
      "cell_type": "code",
      "source": [
        "data_designset = data_designset.drop(columns=data_designset.columns[data_designset.eq(0).mean()>0.9])\n",
        "data_designset = data_designset[data_designset.columns[data_designset.nunique() > 1]]\n",
        "data_designset_feature_names = data_designset.columns\n",
        "\n",
        "# Eventueel verwijderen als meer dan 90% hetzelfde is. \n",
        "# Toevoegen welke kolom die verwijdert."
      ],
      "metadata": {
        "id": "5vKxdt1OYemg",
        "outputId": "e9caee61-d33c-479d-c0b7-e6cbdc0255a4",
        "colab": {
          "base_uri": "https://localhost:8080/"
        }
      },
      "execution_count": 18,
      "outputs": [
        {
          "output_type": "stream",
          "name": "stdout",
          "text": [
            "Index(['hf_energy', 'hf_entropy', 'hf_kurtosis', 'hf_max', 'hf_mean',\n",
            "       'hf_median', 'hf_min', 'hf_peak', 'hf_quartile_range', 'hf_range',\n",
            "       ...\n",
            "       'vf_Frangi_inner_kurtosis_SR(1.0, 10.0)_SS2.0',\n",
            "       'vf_Frangi_inner_max_SR(1.0, 10.0)_SS2.0',\n",
            "       'vf_Frangi_inner_mean_SR(1.0, 10.0)_SS2.0',\n",
            "       'vf_Frangi_inner_median_SR(1.0, 10.0)_SS2.0',\n",
            "       'vf_Frangi_inner_min_SR(1.0, 10.0)_SS2.0',\n",
            "       'vf_Frangi_inner_peak_SR(1.0, 10.0)_SS2.0',\n",
            "       'vf_Frangi_inner_quartile_range_SR(1.0, 10.0)_SS2.0',\n",
            "       'vf_Frangi_inner_range_SR(1.0, 10.0)_SS2.0',\n",
            "       'vf_Frangi_inner_skewness_SR(1.0, 10.0)_SS2.0',\n",
            "       'vf_Frangi_inner_std_SR(1.0, 10.0)_SS2.0'],\n",
            "      dtype='object', length=258)\n"
          ]
        }
      ]
    },
    {
      "cell_type": "markdown",
      "source": [
        "## Scaling"
      ],
      "metadata": {
        "id": "bH8S0aUHMqlB"
      }
    },
    {
      "cell_type": "code",
      "source": [
        "# Different methods for feature scaling. Decision will be made after usage of PCA\n",
        "# Import modules\n",
        "from sklearn.preprocessing import RobustScaler\n",
        "from sklearn.preprocessing import MinMaxScaler\n",
        "from sklearn.preprocessing import StandardScaler\n",
        "\n",
        "# # Robust scaler - based on percentiles. Not influenced by a few number of very large marginal outliers\n",
        "# trans = RobustScaler()\n",
        "# x_train_robust = trans.fit_transform(x_train)\n",
        "\n",
        "# # Standard scaler - removes the mean and scales the data to unit variance\n",
        "# scaler = StandardScaler()\n",
        "# x_train_scaler = scaler.fit_transform(x_train)\n",
        "\n",
        "# MinMax scaler - rescales data set such that all feature values are in range [0,1]\n",
        "norm = MinMaxScaler().fit(data_designset)\n",
        "data_designset_norm = norm.transform(data_designset)\n",
        "data_designset_norm = pd.DataFrame(data_designset_norm)\n",
        "data_designset_norm.columns = data_designset_feature_names\n"
      ],
      "metadata": {
        "id": "8s6_Mk4Yuq4V",
        "outputId": "0c1c8731-139a-4c3e-f4c3-852d525b4152",
        "colab": {
          "base_uri": "https://localhost:8080/"
        }
      },
      "execution_count": 20,
      "outputs": [
        {
          "output_type": "stream",
          "name": "stdout",
          "text": [
            "     hf_energy  hf_entropy  hf_kurtosis    hf_max   hf_mean  hf_median  \\\n",
            "0     0.030316    0.803665     0.150718  0.109315  0.246193   0.333168   \n",
            "1     0.046613    0.314725     0.499410  0.245944  0.452950   0.493327   \n",
            "2     0.846861    0.247117     0.494095  0.550711  0.808664   0.812580   \n",
            "3     0.081471    0.837324     0.008194  0.239718  0.240059   0.325625   \n",
            "4     0.072298    0.215376     0.620899  0.275754  0.493942   0.518087   \n",
            "..         ...         ...          ...       ...       ...        ...   \n",
            "679   0.199931    0.357894     0.685016  0.475650  0.652078   0.694927   \n",
            "680   0.696569    0.299269     0.525931  0.524815  0.819086   0.844649   \n",
            "681   0.083686    0.612099     0.153013  0.258127  0.407152   0.517435   \n",
            "682   0.182977    0.433078     0.527578  0.331177  0.546532   0.602097   \n",
            "683   0.073140    0.862490     0.002345  0.187296  0.180822   0.255970   \n",
            "\n",
            "       hf_min   hf_peak  hf_quartile_range  hf_range  ...  \\\n",
            "0    0.226576  0.297561           0.198266  0.246680  ...   \n",
            "1    0.449091  0.256911           0.064497  0.192652  ...   \n",
            "2    0.857661  0.557724           0.038575  0.146386  ...   \n",
            "3    0.217122  0.304065           0.702242  0.382760  ...   \n",
            "4    0.622412  0.360976           0.049570  0.075319  ...   \n",
            "..        ...       ...                ...       ...  ...   \n",
            "679  0.313423  0.671545           0.118290  0.533033  ...   \n",
            "680  0.793142  0.481301           0.039349  0.175528  ...   \n",
            "681  0.277983  0.437398           0.293117  0.349359  ...   \n",
            "682  0.379208  0.647154           0.076101  0.335483  ...   \n",
            "683  0.160998  0.291057           0.736996  0.378746  ...   \n",
            "\n",
            "     vf_Frangi_inner_kurtosis_SR(1.0, 10.0)_SS2.0  \\\n",
            "0                                        0.110659   \n",
            "1                                        0.000000   \n",
            "2                                        0.022107   \n",
            "3                                        0.050690   \n",
            "4                                        0.000000   \n",
            "..                                            ...   \n",
            "679                                      0.062873   \n",
            "680                                      0.000000   \n",
            "681                                      0.056982   \n",
            "682                                      0.054212   \n",
            "683                                      0.071909   \n",
            "\n",
            "     vf_Frangi_inner_max_SR(1.0, 10.0)_SS2.0  \\\n",
            "0                                   0.166477   \n",
            "1                                   0.000000   \n",
            "2                                   0.025448   \n",
            "3                                   0.572773   \n",
            "4                                   0.000006   \n",
            "..                                       ...   \n",
            "679                                 0.162018   \n",
            "680                                 0.000000   \n",
            "681                                 0.024859   \n",
            "682                                 0.023740   \n",
            "683                                 0.163480   \n",
            "\n",
            "     vf_Frangi_inner_mean_SR(1.0, 10.0)_SS2.0  \\\n",
            "0                                    0.140357   \n",
            "1                                    0.000000   \n",
            "2                                    0.048129   \n",
            "3                                    0.425504   \n",
            "4                                    0.000016   \n",
            "..                                        ...   \n",
            "679                                  0.123589   \n",
            "680                                  0.000000   \n",
            "681                                  0.017870   \n",
            "682                                  0.014982   \n",
            "683                                  0.128881   \n",
            "\n",
            "     vf_Frangi_inner_median_SR(1.0, 10.0)_SS2.0  \\\n",
            "0                                      0.122336   \n",
            "1                                      0.000000   \n",
            "2                                      0.056329   \n",
            "3                                      0.290419   \n",
            "4                                      0.000017   \n",
            "..                                          ...   \n",
            "679                                    0.117886   \n",
            "680                                    0.000000   \n",
            "681                                    0.011854   \n",
            "682                                    0.005417   \n",
            "683                                    0.084776   \n",
            "\n",
            "     vf_Frangi_inner_min_SR(1.0, 10.0)_SS2.0  \\\n",
            "0                                   0.097649   \n",
            "1                                   0.000000   \n",
            "2                                   0.054595   \n",
            "3                                   0.055226   \n",
            "4                                   0.000031   \n",
            "..                                       ...   \n",
            "679                                 0.020048   \n",
            "680                                 0.000000   \n",
            "681                                 0.000023   \n",
            "682                                 0.000215   \n",
            "683                                 0.023276   \n",
            "\n",
            "     vf_Frangi_inner_peak_SR(1.0, 10.0)_SS2.0  \\\n",
            "0                                    0.025532   \n",
            "1                                    0.000000   \n",
            "2                                    0.000000   \n",
            "3                                    0.110638   \n",
            "4                                    0.000000   \n",
            "..                                        ...   \n",
            "679                                  0.055319   \n",
            "680                                  0.000000   \n",
            "681                                  0.004255   \n",
            "682                                  0.012766   \n",
            "683                                  0.046809   \n",
            "\n",
            "     vf_Frangi_inner_quartile_range_SR(1.0, 10.0)_SS2.0  \\\n",
            "0                                             0.085656    \n",
            "1                                             0.000000    \n",
            "2                                             0.021328    \n",
            "3                                             0.547197    \n",
            "4                                             0.000000    \n",
            "..                                                 ...    \n",
            "679                                           0.135293    \n",
            "680                                           0.000000    \n",
            "681                                           0.023347    \n",
            "682                                           0.019947    \n",
            "683                                           0.184821    \n",
            "\n",
            "     vf_Frangi_inner_range_SR(1.0, 10.0)_SS2.0  \\\n",
            "0                                     0.160923   \n",
            "1                                     0.000000   \n",
            "2                                     0.015819   \n",
            "3                                     0.615802   \n",
            "4                                     0.000000   \n",
            "..                                         ...   \n",
            "679                                   0.173209   \n",
            "680                                   0.000000   \n",
            "681                                   0.027252   \n",
            "682                                   0.025982   \n",
            "683                                   0.174098   \n",
            "\n",
            "     vf_Frangi_inner_skewness_SR(1.0, 10.0)_SS2.0  \\\n",
            "0                                        0.426092   \n",
            "1                                        0.171894   \n",
            "2                                        0.127015   \n",
            "3                                        0.320312   \n",
            "4                                        0.171894   \n",
            "..                                            ...   \n",
            "679                                      0.317898   \n",
            "680                                      0.171894   \n",
            "681                                      0.345436   \n",
            "682                                      0.347679   \n",
            "683                                      0.349237   \n",
            "\n",
            "     vf_Frangi_inner_std_SR(1.0, 10.0)_SS2.0  \n",
            "0                                   0.154704  \n",
            "1                                   0.000000  \n",
            "2                                   0.025016  \n",
            "3                                   0.641715  \n",
            "4                                   0.000000  \n",
            "..                                       ...  \n",
            "679                                 0.148009  \n",
            "680                                 0.000000  \n",
            "681                                 0.034172  \n",
            "682                                 0.030585  \n",
            "683                                 0.174652  \n",
            "\n",
            "[684 rows x 258 columns]\n"
          ]
        }
      ]
    },
    {
      "cell_type": "markdown",
      "source": [
        "# Cross validation\n",
        "First a stratified k fold cross validation is used with 10 splits. \n",
        "Feature selection - best method to select features from this multi feature space. The options looked in to are:\n",
        "1. Univariate\n",
        "2. Univariate + PCA\n",
        "3. PCA\n",
        "\n",
        "Classifier - best classifier with the remaining features. Three classifiers are looked in to based on literature review.\n",
        "1. K-NN (normalized scaler)\n",
        "2. SVM \n",
        "3. CNN"
      ],
      "metadata": {
        "id": "BIGLMKKeoMm4"
      }
    },
    {
      "cell_type": "code",
      "source": [
        "from numpy import mean\n",
        "from numpy import std\n",
        "from sklearn.datasets import make_classification\n",
        "from sklearn.model_selection import StratifiedKFold\n",
        "from sklearn.model_selection import GridSearchCV\n",
        "from sklearn.ensemble import RandomForestClassifier\n",
        "from sklearn.metrics import accuracy_score\n",
        "\n",
        "# configure the cross-validation procedure\n",
        "skf = StratifiedKFold(n_splits = 10, random_state=1)\n",
        "results = []\n",
        "for train_idx, val_idx in skf.split(x_train_norm,label_designset):\n",
        "  # split data\n",
        "  X_train, X_val = data_designset[train_idx], data_designset[val_idx]\n",
        "  y_train, y_val = label_designset[train_idx], label_designset[val_idx]\n"
      ],
      "metadata": {
        "id": "hzGous2XmClP"
      },
      "execution_count": null,
      "outputs": []
    },
    {
      "cell_type": "code",
      "source": [
        "import numpy as np\n",
        "from sklearn.model_selection import StratifiedKFold, GridSearchCV\n",
        "from sklearn import neighbors, metrics\n",
        "import seaborn\n",
        "\n",
        "# Create a X fold stratified CV iterator\n",
        "cv_outer = StratifiedKFold(n_splits=10)\n",
        "results = []\n",
        "best_n_neighbors = []\n",
        "\n",
        "# Loop over the folds\n",
        "for validation_index, test_index in cv_outer.split(features, labels):\n",
        "    \n",
        "\t\t# Split the data properly\n",
        "    data_train_val = features.to_numpy()[validation_index]\n",
        "    label_train_val = labels.to_numpy()[validation_index]\n",
        "   \n",
        "    data_test = features.to_numpy()[test_index]\n",
        "    label_test = labels.to_numpy()[test_index]\n",
        "\n",
        "    # Check the stratification \n",
        "    # percent_AD_train = (label_train_val == 'AD').sum()/len(label_train_val)*100\n",
        "    # percent_CN_train = (label_train_val == 'CN').sum()/len(label_train_val)*100\n",
        "    # percent_AD_test = (label_test == 'AD').sum()/len(label_test)*100\n",
        "    # percent_CN_test = (label_test == 'CN').sum()/len(label_test)*100\n",
        "    # print(f\"{percent_AD_train:.2f}% of the train data are Alzheimer disease samples.\")\n",
        "    # print(f\"{percent_CN_train:.2f}% of the train data are control samples.\")\n",
        "    # print(f\"{percent_AD_test:.2f}% of the test data are Alzheimer disease samples.\")\n",
        "    # print(f\"{percent_CN_test:.2f}% of the test data are control samples.\")\n",
        "    \n",
        "    # Create a grid search to find the optimal k using a gridsearch and 10-fold cross validation\n",
        "    # Same as above\n",
        "    parameters = {\"n_neighbors\": list(range(1, 10, 2))}\n",
        "    knn = neighbors.KNeighborsClassifier()\n",
        "    cv_inner = StratifiedKFold(n_splits=10)\n",
        "    grid_search = GridSearchCV(knn, parameters, cv=cv_inner.split(data_train_val, label_train_val), scoring='accuracy')\n",
        "    grid_search.fit(data_train_val, label_train_val)\n",
        "    \n",
        "    # Get resulting classifier\n",
        "    clf = grid_search.best_estimator_\n",
        "    print(f'Best classifier: k={clf.n_neighbors}')\n",
        "    best_n_neighbors.append(clf.n_neighbors)\n",
        "\n",
        "# \t\t# Test the classifier on the test data\n",
        "#     probabilities = clf.predict_proba(data_test)\n",
        "#     scores = probabilities[:, 1]\n",
        "    \n",
        "#     # Get the auc\n",
        "#     auc = metrics.roc_auc_score(label_test, scores)\n",
        "#     results.append({\n",
        "#         'auc': auc,\n",
        "#         'k': clf.n_neighbors,\n",
        "#         'set': 'test'\n",
        "#     })\n",
        "    \n",
        "    # Test the classifier on the validation data\n",
        "    probabilities_train_val = clf.predict_proba(data_train_val)\n",
        "    scores_train_val = probabilities_train_val[:, 1]\n",
        "    \n",
        "    # Get the auc\n",
        "    auc_validation = metrics.roc_auc_score(label_train_val, scores_train_val)\n",
        "    results.append({\n",
        "        'auc': auc_validation,\n",
        "        'k': clf.n_neighbors,\n",
        "        'set': 'validation'\n",
        "    })\n",
        "# Create results dataframe and plot it\n",
        "results = pd.DataFrame(results)\n",
        "seaborn.boxplot(y='auc', x='set', data=results)\n",
        "\n",
        "optimal_n = int(np.median(best_n_neighbors))\n",
        "print(f\"The optimal N={optimal_n}\")"
      ],
      "metadata": {
        "id": "AgRXmCdaox_F",
        "outputId": "3563182d-7f41-4988-f496-2757e5719569",
        "colab": {
          "base_uri": "https://localhost:8080/",
          "height": 470
        }
      },
      "execution_count": null,
      "outputs": [
        {
          "output_type": "stream",
          "name": "stdout",
          "text": [
            "Best classifier: k=15\n",
            "Best classifier: k=21\n",
            "Best classifier: k=11\n",
            "Best classifier: k=9\n",
            "Best classifier: k=13\n",
            "Best classifier: k=13\n",
            "Best classifier: k=23\n",
            "Best classifier: k=11\n",
            "Best classifier: k=13\n",
            "Best classifier: k=17\n",
            "The optimal N=13\n"
          ]
        },
        {
          "output_type": "display_data",
          "data": {
            "text/plain": [
              "<Figure size 432x288 with 1 Axes>"
            ],
            "image/png": "[encoded data removed]"
          },
          "metadata": {
            "needs_background": "light"
          }
        }
      ]
    },
    {
      "cell_type": "markdown",
      "source": [
        "### Univariate Feature Selection "
      ],
      "metadata": {
        "id": "22keSkOv408B"
      }
    },
    {
      "cell_type": "code",
      "source": [
        "from sklearn.feature_selection import SelectKBest, f_classif\n",
        "import matplotlib.pyplot as plt\n",
        "import math \n",
        "\n",
        "bestfeatures = SelectKBest(score_func=f_classif, k=len(data_designset_norm.columns))\n",
        "fit = bestfeatures.fit(data_designset_norm, label_designset)\n",
        "dfscores = pd.DataFrame(fit.scores_)\n",
        "dfcolumns = pd.DataFrame(data_designset_norm.columns)\n",
        "\n",
        "feature_scores = pd.concat([dfcolumns,dfscores],axis=1)\n",
        "feature_scores.columns = ['Specs','Score']  \n",
        "feature_scores = feature_scores.sort_values('Score')\n",
        "highest_feature_score = feature_scores['Score'].iloc[-1]\n",
        "threshold_feature_relative = 0.7                                                  # Optimization of parameter is needed\n",
        "threshold_feature_score = threshold_feature_relative*highest_feature_score\n",
        "criteria = feature_scores['Score']>=threshold_feature_score\n",
        "print(feature_scores)\n",
        "print(criteria)\n",
        "\n",
        "feature_selection_names = []\n",
        "for i in range(0,len(feature_scores['Score'])):\n",
        "  if feature_scores['Score'].iloc[i]>=threshold_feature_score:\n",
        "    feature_selection_names.append(feature_scores['Specs'].iloc[i])\n",
        "\n",
        "selected_data_designset_norm = data_designset_norm[feature_selection_names]\n",
        "\n",
        "# print(feature_scores.nlargest(50,'Score'))  \n"
      ],
      "metadata": {
        "id": "aCGpuJGg46OH",
        "outputId": "614c4e39-5531-4eb7-e405-6e836cb5609b",
        "colab": {
          "base_uri": "https://localhost:8080/"
        }
      },
      "execution_count": 102,
      "outputs": [
        {
          "output_type": "stream",
          "name": "stdout",
          "text": [
            "                    Specs         Score\n",
            "86         sf_cvar_std_2D  9.266357e-08\n",
            "84    sf_convexity_std_2D  2.083723e-03\n",
            "30        logf_min_sigma1  4.231569e-03\n",
            "173  tf_Gabor_0.2A2.36max  5.787274e-03\n",
            "13    logf_energy_sigma10  1.685887e-02\n",
            "..                    ...           ...\n",
            "11                 hf_std  3.354110e+02\n",
            "8       hf_quartile_range  3.561920e+02\n",
            "215     tf_LBP_std_R3_P12  3.568775e+02\n",
            "2             hf_kurtosis  3.863548e+02\n",
            "1              hf_entropy  4.872048e+02\n",
            "\n",
            "[258 rows x 2 columns]\n",
            "86     False\n",
            "84     False\n",
            "30     False\n",
            "173    False\n",
            "13     False\n",
            "       ...  \n",
            "11     False\n",
            "8       True\n",
            "215     True\n",
            "2       True\n",
            "1       True\n",
            "Name: Score, Length: 258, dtype: bool\n"
          ]
        }
      ]
    },
    {
      "cell_type": "markdown",
      "source": [
        "# Classifiers\n",
        "## PCA"
      ],
      "metadata": {
        "id": "0W9tsVcxvTKO"
      }
    },
    {
      "cell_type": "code",
      "source": [
        "# General Import\n",
        "from sklearn.decomposition import PCA\n",
        "\n",
        "# Create a PCA which retains n principle components\n",
        "n_pca = 5\n",
        "pca = PCA(n_components=n_pca)\n",
        "\n",
        "# Fit the PCA model, point_data_train should be a 2D numpy array\n",
        "# which has one row per subject and the pointdata as columns where\n",
        "# the columns are x1, y1, z1, x2, y2, z2, ..., xn, yn, zn\n",
        "pca.fit(data_trainset)\n",
        "\n",
        "# Transform data\n",
        "data_trainset_trans = pca.transform(data_trainset)\n"
      ],
      "metadata": {
        "id": "C_vMuvALvpNs"
      },
      "execution_count": null,
      "outputs": []
    }
  ]
}