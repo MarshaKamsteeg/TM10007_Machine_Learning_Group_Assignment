{
  "nbformat": 4,
  "nbformat_minor": 0,
  "metadata": {
    "colab": {
      "name": "tm10007_group_9_code.ipynb",
      "provenance": [],
      "collapsed_sections": [],
      "include_colab_link": true
    },
    "kernelspec": {
      "name": "python3",
      "display_name": "Python 3"
    },
    "language_info": {
      "name": "python"
    }
  },
  "cells": [
    {
      "cell_type": "markdown",
      "metadata": {
        "id": "view-in-github",
        "colab_type": "text"
      },
      "source": [
        "<a href=\"https://colab.research.google.com/github/MarshaKamsteeg/TM10007_Machine_Learning_Group_Assignment/blob/main/tm10007_group_9_code.ipynb\" target=\"_parent\"><img src=\"https://colab.research.google.com/assets/colab-badge.svg\" alt=\"Open In Colab\"/></a>"
      ]
    },
    {
      "cell_type": "markdown",
      "metadata": {
        "id": "7SXpaKwwGe5x"
      },
      "source": [
        "# TM10007 Assignment"
      ]
    },
    {
      "cell_type": "code",
      "execution_count": 8,
      "metadata": {
        "id": "CiDn2Sk-VWqE"
      },
      "outputs": [],
      "source": [
        "# Run this to use from colab environment\n",
        "!pip install -q --upgrade git+https://github.com/karinvangarderen/tm10007_project.git"
      ]
    },
    {
      "cell_type": "markdown",
      "metadata": {
        "id": "ghYv2pEkF8Eg"
      },
      "source": [
        "## Description of data set\n",
        "\n",
        "Below are functions to load the dataset of your choice. After that, it is all up to you to create and evaluate a classification method. Beware, there may be missing values in these datasets. Good luck!"
      ]
    },
    {
      "cell_type": "code",
      "execution_count": 9,
      "metadata": {
        "id": "-NE_fTbKGe5z",
        "outputId": "12ab4b83-5f87-47fb-bed0-dc5509a80b83",
        "colab": {
          "base_uri": "https://localhost:8080/"
        }
      },
      "outputs": [
        {
          "output_type": "stream",
          "name": "stdout",
          "text": [
            "The number of samples: 855\n",
            "The number of columns: 268\n",
            "(array([], dtype=int64), array([], dtype=int64))\n",
            "519\n",
            "336\n"
          ]
        }
      ],
      "source": [
        "# Import Data\n",
        "from adni.load_data import load_data\n",
        "import numpy as np\n",
        "import pandas as pd\n",
        "\n",
        "\n",
        "# Import Data\n",
        "data = load_data()\n",
        "data_pandas = pd.DataFrame(data)\n",
        "headers = data_pandas.keys()\n",
        "labels = data_pandas['label']\n",
        "\n",
        "\n",
        "print(f'The number of samples: {len(data.index)}')\n",
        "print(f'The number of columns: {len(data.columns)}')\n",
        "\n",
        "# Find empty / NaN entry in pandas dataframe \n",
        "data_pan = data_pandas.replace(' ', np.nan) \n",
        "empty_values = np.where(pd.isnull(data_pan))\n",
        "print(empty_values)\n",
        "\n",
        "# Percentage AD and CN\n",
        "percent_AD = data_pandas['label'].value_counts()['AD']\n",
        "percent_CN = data_pandas['label'].value_counts()['CN']\n",
        "print(percent_AD)\n",
        "print(percent_CN)\n"
      ]
    },
    {
      "cell_type": "markdown",
      "source": [
        "# Preprocessing of the data"
      ],
      "metadata": {
        "id": "ZQTiKJ50EHlZ"
      }
    },
    {
      "cell_type": "markdown",
      "source": [
        "## Dividing data in a designgset (80%) and testset (20%)"
      ],
      "metadata": {
        "id": "fTizaTtFMVOw"
      }
    },
    {
      "cell_type": "code",
      "source": [
        "# import modules\n",
        "from sklearn.model_selection import train_test_split\n",
        "\n",
        "# Divide data in trainingsset (80%) and testset (20%) stratified for the label\n",
        "data_designset, data_testset = train_test_split(data, test_size=.2, random_state=1, stratify=data['label'])\n",
        "\n",
        "# Check the stratification \n",
        "percent_AD_train = (data_designset['label'].value_counts()['AD'])/len(data_designset['label'])*100\n",
        "percent_CN_train = (data_designset['label'].value_counts()['CN'])/len(data_designset['label'])*100\n",
        "print(f\"{percent_AD_train:.2f}% of the train data are Alzheimer disease samples.\")\n",
        "print(f\"{percent_CN_train:.2f}% of the train data are control samples.\")\n",
        "\n",
        "percent_AD_test = (data_testset['label'].value_counts()['AD'])/len(data_testset['label'])*100\n",
        "percent_CN_test = (data_testset['label'].value_counts()['CN'])/len(data_testset['label'])*100\n",
        "print(f\"{percent_AD_test:.2f}% of the test data are Alzheimer disease samples.\")\n",
        "print(f\"{percent_CN_test:.2f}% of the test data are control samples.\")"
      ],
      "metadata": {
        "id": "D-_lSnqzDCao",
        "colab": {
          "base_uri": "https://localhost:8080/"
        },
        "outputId": "f027e01b-da6e-430e-ba30-3670df98a449"
      },
      "execution_count": 15,
      "outputs": [
        {
          "output_type": "stream",
          "name": "stdout",
          "text": [
            "60.67% of the train data are Alzheimer disease samples.\n",
            "39.33% of the train data are control samples.\n",
            "60.82% of the test data are Alzheimer disease samples.\n",
            "39.18% of the test data are control samples.\n"
          ]
        }
      ]
    },
    {
      "cell_type": "markdown",
      "source": [
        "## Feature dropping"
      ],
      "metadata": {
        "id": "5Cle-UrdMhyx"
      }
    },
    {
      "cell_type": "markdown",
      "source": [
        "## Scaling"
      ],
      "metadata": {
        "id": "bH8S0aUHMqlB"
      }
    }
  ]
}