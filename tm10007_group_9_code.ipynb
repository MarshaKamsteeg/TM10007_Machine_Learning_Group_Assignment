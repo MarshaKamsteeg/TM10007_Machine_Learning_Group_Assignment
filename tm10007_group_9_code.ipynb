{
  "nbformat": 4,
  "nbformat_minor": 0,
  "metadata": {
    "colab": {
      "name": "tm10007_group_9_code.ipynb",
      "provenance": [],
      "collapsed_sections": [],
      "toc_visible": true,
      "include_colab_link": true
    },
    "kernelspec": {
      "name": "python3",
      "display_name": "Python 3"
    },
    "language_info": {
      "name": "python"
    }
  },
  "cells": [
    {
      "cell_type": "markdown",
      "metadata": {
        "id": "view-in-github",
        "colab_type": "text"
      },
      "source": [
        "<a href=\"https://colab.research.google.com/github/MarshaKamsteeg/TM10007_Machine_Learning_Group_Assignment/blob/main/tm10007_group_9_code.ipynb\" target=\"_parent\"><img src=\"https://colab.research.google.com/assets/colab-badge.svg\" alt=\"Open In Colab\"/></a>"
      ]
    },
    {
      "cell_type": "markdown",
      "metadata": {
        "id": "7SXpaKwwGe5x"
      },
      "source": [
        "# TM10007 Assignment"
      ]
    },
    {
      "cell_type": "code",
      "execution_count": null,
      "metadata": {
        "id": "CiDn2Sk-VWqE",
        "colab": {
          "base_uri": "https://localhost:8080/"
        },
        "outputId": "3fde51b3-b4b4-4bf0-ddc7-123a2531449e"
      },
      "outputs": [
        {
          "output_type": "stream",
          "name": "stdout",
          "text": [
            "  Building wheel for brats (setup.py) ... \u001b[?25l\u001b[?25hdone\n"
          ]
        }
      ],
      "source": [
        "# Run this to use from colab environment\n",
        "!pip install -q --upgrade git+https://github.com/karinvangarderen/tm10007_project.git"
      ]
    },
    {
      "cell_type": "markdown",
      "metadata": {
        "id": "ghYv2pEkF8Eg"
      },
      "source": [
        "## Description of data set\n",
        "\n",
        "Below are functions to load the dataset of your choice. After that, it is all up to you to create and evaluate a classification method. Beware, there may be missing values in these datasets. Good luck!"
      ]
    },
    {
      "cell_type": "code",
      "execution_count": null,
      "metadata": {
        "id": "-NE_fTbKGe5z",
        "outputId": "83242bfa-277d-4347-b50a-888054dca0bb",
        "colab": {
          "base_uri": "https://localhost:8080/"
        }
      },
      "outputs": [
        {
          "output_type": "stream",
          "name": "stdout",
          "text": [
            "The number of samples: 855\n",
            "The number of columns: 268\n",
            "(array([], dtype=int64), array([], dtype=int64))\n",
            "519\n",
            "336\n"
          ]
        }
      ],
      "source": [
        "# Import Data\n",
        "from adni.load_data import load_data\n",
        "import numpy as np\n",
        "import pandas as pd\n",
        "\n",
        "\n",
        "# Import Data\n",
        "data = load_data()\n",
        "data_pandas = pd.DataFrame(data)\n",
        "headers = data_pandas.keys()\n",
        "labels = data_pandas['label']\n",
        "\n",
        "\n",
        "print(f'The number of samples: {len(data.index)}')\n",
        "print(f'The number of columns: {len(data.columns)}')\n",
        "\n",
        "# Find empty / NaN entry in pandas dataframe\n",
        "data_pan = data_pandas.replace(' ', np.nan) \n",
        "empty_values = np.where(pd.isnull(data_pan))\n",
        "print(empty_values)\n",
        "\n",
        "# Percentage AD and CN\n",
        "percent_AD = data_pandas['label'].value_counts()['AD']\n",
        "percent_CN = data_pandas['label'].value_counts()['CN']\n",
        "print(percent_AD)\n",
        "print(percent_CN)\n"
      ]
    },
    {
      "cell_type": "markdown",
      "source": [
        "# Preprocessing of the data"
      ],
      "metadata": {
        "id": "ZQTiKJ50EHlZ"
      }
    },
    {
      "cell_type": "code",
      "source": [
        "# import modules\n",
        "from sklearn.model_selection import tran_test_split\n",
        "\n",
        "# Binarize labels to 0 (CN) and 1 (AD)\n",
        "binair_label = data_pandas['label'].replace(['CN', 'AD'],[0, 1])\n",
        "\n",
        "# Divide data in trainingsset (80%) and testset (20%) using a stratified split\n",
        "\n",
        "# Find columns with only zero's\n",
        "\n",
        "# Scaling"
      ],
      "metadata": {
        "id": "D-_lSnqzDCao",
        "colab": {
          "base_uri": "https://localhost:8080/"
        },
        "outputId": "1703a6e9-f3cf-4f17-f758-aec47f06c4f8"
      },
      "execution_count": 13,
      "outputs": [
        {
          "output_type": "stream",
          "name": "stdout",
          "text": [
            "ID\n",
            "0_002_S_0413_bl_0    1\n",
            "0_002_S_0559_bl_0    1\n",
            "0_002_S_0619_bl_0    0\n",
            "0_002_S_0685_bl_0    1\n",
            "0_002_S_0816_bl_0    0\n",
            "                    ..\n",
            "0_941_S_4292_bl_0    1\n",
            "0_941_S_4365_bl_0    1\n",
            "0_941_S_4376_bl_0    1\n",
            "0_941_S_5124_bl_0    1\n",
            "0_941_S_5193_bl_0    1\n",
            "Name: label, Length: 855, dtype: int64\n"
          ]
        }
      ]
    }
  ]
}