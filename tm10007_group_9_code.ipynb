{
  "nbformat": 4,
  "nbformat_minor": 0,
  "metadata": {
    "colab": {
      "name": "tm10007_group_9_code.ipynb",
      "provenance": [],
      "collapsed_sections": [],
      "include_colab_link": true
    },
    "kernelspec": {
      "name": "python3",
      "display_name": "Python 3"
    },
    "language_info": {
      "name": "python"
    }
  },
  "cells": [
    {
      "cell_type": "markdown",
      "metadata": {
        "id": "view-in-github",
        "colab_type": "text"
      },
      "source": [
        "<a href=\"https://colab.research.google.com/github/MarshaKamsteeg/TM10007_Machine_Learning_Group_Assignment/blob/main/tm10007_group_9_code.ipynb\" target=\"_parent\"><img src=\"https://colab.research.google.com/assets/colab-badge.svg\" alt=\"Open In Colab\"/></a>"
      ]
    },
    {
      "cell_type": "markdown",
      "metadata": {
        "id": "7SXpaKwwGe5x"
      },
      "source": [
        "# TM10007 Assignment"
      ]
    },
    {
      "cell_type": "code",
      "execution_count": 105,
      "metadata": {
        "id": "CiDn2Sk-VWqE"
      },
      "outputs": [],
      "source": [
        "# Run this to use from colab environment\n",
        "!pip install -q --upgrade git+https://github.com/karinvangarderen/tm10007_project.git"
      ]
    },
    {
      "cell_type": "markdown",
      "metadata": {
        "id": "ghYv2pEkF8Eg"
      },
      "source": [
        "## Description of data set\n",
        "Import data from the ADNI dataset. Find empty values if present. "
      ]
    },
    {
      "cell_type": "code",
      "execution_count": 160,
      "metadata": {
        "id": "-NE_fTbKGe5z",
        "outputId": "72ff1a89-8fe8-4167-d402-e153d934ad12",
        "colab": {
          "base_uri": "https://localhost:8080/"
        }
      },
      "outputs": [
        {
          "output_type": "stream",
          "name": "stdout",
          "text": [
            "Total number of samples: 855\n",
            "Total number of columns: 268\n",
            "Total amount of features: 266\n",
            "There are no empty values found.\n",
            "Within the dataset 519 samples are from people with Alzheimer Disease\n",
            "The other 336 samples are from people without Alzheimer Disease\n"
          ]
        },
        {
          "output_type": "stream",
          "name": "stderr",
          "text": [
            "/usr/local/lib/python3.7/dist-packages/ipykernel_launcher.py:17: DeprecationWarning: The truth value of an empty array is ambiguous. Returning False, but in future this will result in an error. Use `array.size > 0` to check that an array is not empty.\n"
          ]
        }
      ],
      "source": [
        "# Import Data\n",
        "from adni.load_data import load_data\n",
        "import numpy as np\n",
        "import pandas as pd\n",
        "\n",
        "# Import Data\n",
        "data = load_data()\n",
        "data_pandas = pd.DataFrame(data)\n",
        "print(f'Total number of samples: {len(data.index)}')\n",
        "print(f'Total number of columns: {len(data.columns)}')\n",
        "print(f'Total amount of features: {len(data.columns)-2}')\n",
        "\n",
        "# Find empty / NaN entry in pandas dataframe\n",
        "data_pandas = data_pandas.replace(' ', np.nan) \n",
        "empty_values = np.where(pd.isnull(data_pandas))\n",
        "\n",
        "if ~empty_values[0] == []:\n",
        "  print(f'Empty values can be found at index {empty_values}')\n",
        "else:\n",
        "  print('There are no empty values found.')\n",
        "  pass\n",
        "\n",
        "# Percentage AD and CN\n",
        "number_AD = data_pandas['label'].value_counts()['AD']\n",
        "number_CN = data_pandas['label'].value_counts()['CN']\n",
        "print(f\"Within the dataset {number_AD} samples are from people with Alzheimer Disease\")\n",
        "print(f\"The other {number_CN} samples are from people without Alzheimer Disease\") \n"
      ]
    },
    {
      "cell_type": "markdown",
      "source": [
        "# Preprocessing of the data"
      ],
      "metadata": {
        "id": "ZQTiKJ50EHlZ"
      }
    },
    {
      "cell_type": "markdown",
      "source": [
        "## Dividing data in a designset (80%) and testset (20%)"
      ],
      "metadata": {
        "id": "fTizaTtFMVOw"
      }
    },
    {
      "cell_type": "code",
      "source": [
        "# import modules\n",
        "from sklearn.model_selection import train_test_split\n",
        "\n",
        "# Divide data in label and feature set \n",
        "labels = data['label']\n",
        "features = data.drop(columns=['label'])\n",
        "\n",
        "# Divide data in trainingsset (80%) and testset (20%) stratified for the label\n",
        "data_designset, data_testset, label_designset, label_testset = train_test_split(features, labels, test_size=.2, random_state=1, stratify=data['label'])\n",
        "\n",
        "# Check the stratification \n",
        "percent_AD_train = (label_designset.value_counts()['AD'])/len(label_designset)*100\n",
        "percent_CN_train = (label_designset.value_counts()['CN'])/len(label_designset)*100\n",
        "percent_AD_test = (label_testset.value_counts()['AD'])/len(label_testset)*100\n",
        "percent_CN_test = (label_testset.value_counts()['CN'])/len(label_testset)*100\n",
        "\n",
        "print(f\"{percent_AD_train:.2f}% of the train data are Alzheimer disease samples.\")\n",
        "print(f\"{percent_CN_train:.2f}% of the train data are control samples.\")\n",
        "print(f\"{percent_AD_test:.2f}% of the test data are Alzheimer disease samples.\")\n",
        "print(f\"{percent_CN_test:.2f}% of the test data are control samples.\")\n"
      ],
      "metadata": {
        "id": "D-_lSnqzDCao",
        "colab": {
          "base_uri": "https://localhost:8080/"
        },
        "outputId": "f8b0e922-aedb-48e5-db28-103fdf8e89fd"
      },
      "execution_count": 161,
      "outputs": [
        {
          "output_type": "stream",
          "name": "stdout",
          "text": [
            "60.67% of the train data are Alzheimer disease samples.\n",
            "39.33% of the train data are control samples.\n",
            "60.82% of the test data are Alzheimer disease samples.\n",
            "39.18% of the test data are control samples.\n"
          ]
        }
      ]
    },
    {
      "cell_type": "markdown",
      "source": [
        "## Feature Dropping"
      ],
      "metadata": {
        "id": "5Cle-UrdMhyx"
      }
    },
    {
      "cell_type": "markdown",
      "source": [
        "Find columns where > 90% of the column has value zero. Remove the features if this is true. Besides, remove features if the whole column has one unique value. "
      ],
      "metadata": {
        "id": "EBORbJjgJM-S"
      }
    },
    {
      "cell_type": "code",
      "source": [
        "data_designset = data_designset.drop(columns=data_designset.columns[data_designset.eq(0).mean()>0.9])\n",
        "data_designset = data_designset[data_designset.columns[data_designset.nunique() > 1]]\n",
        "data_designset_feature_names = data_designset.columns\n",
        "\n",
        "# Eventueel verwijderen als meer dan 90% hetzelfde is. \n",
        "# Toevoegen welke kolom die verwijdert."
      ],
      "metadata": {
        "id": "5vKxdt1OYemg"
      },
      "execution_count": 162,
      "outputs": []
    },
    {
      "cell_type": "markdown",
      "source": [
        "## Scaling"
      ],
      "metadata": {
        "id": "bH8S0aUHMqlB"
      }
    },
    {
      "cell_type": "code",
      "source": [
        "# Different methods for feature scaling. Decision will be made after usage of PCA\n",
        "# Import modules\n",
        "from sklearn.preprocessing import RobustScaler\n",
        "from sklearn.preprocessing import MinMaxScaler\n",
        "from sklearn.preprocessing import StandardScaler\n",
        "\n",
        "# # Robust scaler - based on percentiles. Not influenced by a few number of very large marginal outliers\n",
        "# trans = RobustScaler()\n",
        "# x_train_robust = trans.fit_transform(x_train)\n",
        "\n",
        "# # Standard scaler - removes the mean and scales the data to unit variance\n",
        "# scaler = StandardScaler()\n",
        "# x_train_scaler = scaler.fit_transform(x_train)\n",
        "\n",
        "# MinMax scaler - rescales data set such that all feature values are in range [0,1]\n",
        "norm = MinMaxScaler().fit(data_designset)\n",
        "data_designset_norm = norm.transform(data_designset)\n",
        "data_designset_norm = pd.DataFrame(data_designset_norm)\n",
        "data_designset_norm.columns = data_designset_feature_names"
      ],
      "metadata": {
        "id": "8s6_Mk4Yuq4V"
      },
      "execution_count": 163,
      "outputs": []
    },
    {
      "cell_type": "markdown",
      "source": [
        "# Cross validation\n",
        "First a stratified k fold cross validation is used with 10 splits. \n",
        "Feature selection - best method to select features from this multi feature space. The options looked in to are:\n",
        "1. Univariate\n",
        "2. Univariate + PCA\n",
        "3. PCA\n",
        "\n",
        "Classifier - best classifier with the remaining features. Three classifiers are looked in to based on literature review.\n",
        "1. K-NN (normalized scaler)\n",
        "2. SVM \n",
        "3. CNN"
      ],
      "metadata": {
        "id": "BIGLMKKeoMm4"
      }
    },
    {
      "cell_type": "code",
      "source": [
        "import numpy as np\n",
        "from sklearn.datasets import make_classification\n",
        "from sklearn.model_selection import StratifiedKFold, GridSearchCV, StratifiedShuffleSplit\n",
        "from sklearn.ensemble import RandomForestClassifier\n",
        "from sklearn.metrics import accuracy_score\n",
        "from sklearn import neighbors, metrics\n",
        "import seaborn\n",
        "import matplotlib.pyplot as plt\n",
        "from sklearn.feature_selection import SelectKBest, f_classif\n",
        "import math\n",
        "\n",
        "# configure the cross-validation procedure\n",
        "sss = StratifiedShuffleSplit(n_splits = 10, test_size = 0.1, random_state=1)\n",
        "k_list = list(range(1, 25, 2))\n",
        "all_train = []\n",
        "all_val = []\n",
        "\n",
        "for train_idx, val_idx in sss.split(data_designset_norm,label_designset): # split data\n",
        "  x_train, x_val = data_designset_norm.to_numpy()[train_idx], data_designset_norm.to_numpy()[val_idx]\n",
        "  y_train, y_val = label_designset.to_numpy()[train_idx], label_designset.to_numpy()[val_idx]\n",
        "\n",
        "  train_scores = []\n",
        "  validation_scores = []\n",
        "\n",
        "  bestfeatures = SelectKBest(score_func=f_classif, k=len(data_designset_norm.columns))\n",
        "  fit = bestfeatures.fit(x_train, y_train)\n",
        "  dfscores = pd.DataFrame(fit.scores_)\n",
        "  dfcolumns = pd.DataFrame(data_designset_norm.columns)\n",
        "\n",
        "  feature_scores = pd.concat([dfcolumns,dfscores],axis=1)\n",
        "  feature_scores.columns = ['Specs','Score']  \n",
        "  feature_scores = feature_scores.sort_values('Score')\n",
        "  highest_feature_score = feature_scores['Score'].iloc[-1]\n",
        "  threshold_feature_relative = 0.7                                                  # Optimization of parameter is needed\n",
        "  threshold_feature_score = threshold_feature_relative*highest_feature_score\n",
        "  criteria = feature_scores['Score']>=threshold_feature_score\n",
        "\n",
        "  feature_selection_names = []\n",
        "  for i in range(0,len(feature_scores['Score'])):\n",
        "    if feature_scores['Score'].iloc[i]>=threshold_feature_score:\n",
        "      feature_selection_names.append(feature_scores['Specs'].iloc[i])\n",
        "\n",
        "  selected_data_designset_norm = data_designset_norm[feature_selection_names]\n",
        "  print(selected_data_designset_norm)"
      ],
      "metadata": {
        "id": "qMg39eM5Ccq2",
        "outputId": "22a290ee-86e2-4a84-a5a6-50613f48dfd4",
        "colab": {
          "base_uri": "https://localhost:8080/"
        }
      },
      "execution_count": 177,
      "outputs": [
        {
          "output_type": "stream",
          "name": "stdout",
          "text": [
            "     hf_quartile_range  tf_LBP_std_R3_P12  hf_kurtosis  hf_entropy\n",
            "0             0.198266           0.395872     0.150718    0.803665\n",
            "1             0.064497           0.763401     0.499410    0.314725\n",
            "2             0.038575           0.766152     0.494095    0.247117\n",
            "3             0.702242           0.330794     0.008194    0.837324\n",
            "4             0.049570           0.759462     0.620899    0.215376\n",
            "..                 ...                ...          ...         ...\n",
            "679           0.118290           0.588258     0.685016    0.357894\n",
            "680           0.039349           0.726369     0.525931    0.299269\n",
            "681           0.293117           0.479401     0.153013    0.612099\n",
            "682           0.076101           0.565875     0.527578    0.433078\n",
            "683           0.736996           0.420677     0.002345    0.862490\n",
            "\n",
            "[684 rows x 4 columns]\n",
            "       hf_std  hf_quartile_range  hf_kurtosis  hf_entropy\n",
            "0    0.281948           0.198266     0.150718    0.803665\n",
            "1    0.138342           0.064497     0.499410    0.314725\n",
            "2    0.101695           0.038575     0.494095    0.247117\n",
            "3    0.569036           0.702242     0.008194    0.837324\n",
            "4    0.086708           0.049570     0.620899    0.215376\n",
            "..        ...                ...          ...         ...\n",
            "679  0.351238           0.118290     0.685016    0.357894\n",
            "680  0.139765           0.039349     0.525931    0.299269\n",
            "681  0.400947           0.293117     0.153013    0.612099\n",
            "682  0.244049           0.076101     0.527578    0.433078\n",
            "683  0.582426           0.736996     0.002345    0.862490\n",
            "\n",
            "[684 rows x 4 columns]\n",
            "     hf_quartile_range  hf_kurtosis  hf_entropy\n",
            "0             0.198266     0.150718    0.803665\n",
            "1             0.064497     0.499410    0.314725\n",
            "2             0.038575     0.494095    0.247117\n",
            "3             0.702242     0.008194    0.837324\n",
            "4             0.049570     0.620899    0.215376\n",
            "..                 ...          ...         ...\n",
            "679           0.118290     0.685016    0.357894\n",
            "680           0.039349     0.525931    0.299269\n",
            "681           0.293117     0.153013    0.612099\n",
            "682           0.076101     0.527578    0.433078\n",
            "683           0.736996     0.002345    0.862490\n",
            "\n",
            "[684 rows x 3 columns]\n",
            "     hf_quartile_range  hf_kurtosis  hf_entropy\n",
            "0             0.198266     0.150718    0.803665\n",
            "1             0.064497     0.499410    0.314725\n",
            "2             0.038575     0.494095    0.247117\n",
            "3             0.702242     0.008194    0.837324\n",
            "4             0.049570     0.620899    0.215376\n",
            "..                 ...          ...         ...\n",
            "679           0.118290     0.685016    0.357894\n",
            "680           0.039349     0.525931    0.299269\n",
            "681           0.293117     0.153013    0.612099\n",
            "682           0.076101     0.527578    0.433078\n",
            "683           0.736996     0.002345    0.862490\n",
            "\n",
            "[684 rows x 3 columns]\n",
            "     hf_quartile_range  tf_LBP_std_R3_P12  hf_kurtosis  hf_entropy\n",
            "0             0.198266           0.395872     0.150718    0.803665\n",
            "1             0.064497           0.763401     0.499410    0.314725\n",
            "2             0.038575           0.766152     0.494095    0.247117\n",
            "3             0.702242           0.330794     0.008194    0.837324\n",
            "4             0.049570           0.759462     0.620899    0.215376\n",
            "..                 ...                ...          ...         ...\n",
            "679           0.118290           0.588258     0.685016    0.357894\n",
            "680           0.039349           0.726369     0.525931    0.299269\n",
            "681           0.293117           0.479401     0.153013    0.612099\n",
            "682           0.076101           0.565875     0.527578    0.433078\n",
            "683           0.736996           0.420677     0.002345    0.862490\n",
            "\n",
            "[684 rows x 4 columns]\n",
            "     tf_LBP_std_R3_P12  hf_quartile_range  hf_kurtosis  hf_entropy\n",
            "0             0.395872           0.198266     0.150718    0.803665\n",
            "1             0.763401           0.064497     0.499410    0.314725\n",
            "2             0.766152           0.038575     0.494095    0.247117\n",
            "3             0.330794           0.702242     0.008194    0.837324\n",
            "4             0.759462           0.049570     0.620899    0.215376\n",
            "..                 ...                ...          ...         ...\n",
            "679           0.588258           0.118290     0.685016    0.357894\n",
            "680           0.726369           0.039349     0.525931    0.299269\n",
            "681           0.479401           0.293117     0.153013    0.612099\n",
            "682           0.565875           0.076101     0.527578    0.433078\n",
            "683           0.420677           0.736996     0.002345    0.862490\n",
            "\n",
            "[684 rows x 4 columns]\n",
            "       hf_std  hf_quartile_range  hf_kurtosis  hf_entropy\n",
            "0    0.281948           0.198266     0.150718    0.803665\n",
            "1    0.138342           0.064497     0.499410    0.314725\n",
            "2    0.101695           0.038575     0.494095    0.247117\n",
            "3    0.569036           0.702242     0.008194    0.837324\n",
            "4    0.086708           0.049570     0.620899    0.215376\n",
            "..        ...                ...          ...         ...\n",
            "679  0.351238           0.118290     0.685016    0.357894\n",
            "680  0.139765           0.039349     0.525931    0.299269\n",
            "681  0.400947           0.293117     0.153013    0.612099\n",
            "682  0.244049           0.076101     0.527578    0.433078\n",
            "683  0.582426           0.736996     0.002345    0.862490\n",
            "\n",
            "[684 rows x 4 columns]\n",
            "     hf_quartile_range  tf_LBP_std_R3_P12  hf_kurtosis  hf_entropy\n",
            "0             0.198266           0.395872     0.150718    0.803665\n",
            "1             0.064497           0.763401     0.499410    0.314725\n",
            "2             0.038575           0.766152     0.494095    0.247117\n",
            "3             0.702242           0.330794     0.008194    0.837324\n",
            "4             0.049570           0.759462     0.620899    0.215376\n",
            "..                 ...                ...          ...         ...\n",
            "679           0.118290           0.588258     0.685016    0.357894\n",
            "680           0.039349           0.726369     0.525931    0.299269\n",
            "681           0.293117           0.479401     0.153013    0.612099\n",
            "682           0.076101           0.565875     0.527578    0.433078\n",
            "683           0.736996           0.420677     0.002345    0.862490\n",
            "\n",
            "[684 rows x 4 columns]\n",
            "     hf_kurtosis  hf_entropy\n",
            "0       0.150718    0.803665\n",
            "1       0.499410    0.314725\n",
            "2       0.494095    0.247117\n",
            "3       0.008194    0.837324\n",
            "4       0.620899    0.215376\n",
            "..           ...         ...\n",
            "679     0.685016    0.357894\n",
            "680     0.525931    0.299269\n",
            "681     0.153013    0.612099\n",
            "682     0.527578    0.433078\n",
            "683     0.002345    0.862490\n",
            "\n",
            "[684 rows x 2 columns]\n",
            "     hf_quartile_range  tf_LBP_std_R3_P12  hf_kurtosis  hf_entropy\n",
            "0             0.198266           0.395872     0.150718    0.803665\n",
            "1             0.064497           0.763401     0.499410    0.314725\n",
            "2             0.038575           0.766152     0.494095    0.247117\n",
            "3             0.702242           0.330794     0.008194    0.837324\n",
            "4             0.049570           0.759462     0.620899    0.215376\n",
            "..                 ...                ...          ...         ...\n",
            "679           0.118290           0.588258     0.685016    0.357894\n",
            "680           0.039349           0.726369     0.525931    0.299269\n",
            "681           0.293117           0.479401     0.153013    0.612099\n",
            "682           0.076101           0.565875     0.527578    0.433078\n",
            "683           0.736996           0.420677     0.002345    0.862490\n",
            "\n",
            "[684 rows x 4 columns]\n"
          ]
        }
      ]
    },
    {
      "cell_type": "markdown",
      "source": [
        "## Cross Validation splitting of dataset"
      ],
      "metadata": {
        "id": "cKYfDtZQ5cNE"
      }
    },
    {
      "cell_type": "code",
      "source": [
        "import numpy as np\n",
        "from sklearn.datasets import make_classification\n",
        "from sklearn.model_selection import StratifiedKFold, GridSearchCV, StratifiedShuffleSplit\n",
        "from sklearn.ensemble import RandomForestClassifier\n",
        "from sklearn.metrics import accuracy_score\n",
        "from sklearn import neighbors, metrics\n",
        "import seaborn\n",
        "import matplotlib.pyplot as plt\n",
        "\n",
        "# configure the cross-validation procedure\n",
        "sss = StratifiedShuffleSplit(n_splits = 10, test_size = 0.1, random_state=1)\n",
        "k_list = list(range(1, 25, 2))\n",
        "all_train = []\n",
        "all_val = []\n",
        "\n",
        "for train_idx, val_idx in sss.split(data_designset_norm,label_designset): # split data\n",
        "  x_train, x_val = data_designset_norm.to_numpy()[train_idx], data_designset_norm.to_numpy()[val_idx]\n",
        "  y_train, y_val = label_designset.to_numpy()[train_idx], label_designset.to_numpy()[val_idx]\n",
        "\n",
        "  train_scores = []\n",
        "  validation_scores = []\n",
        "\n",
        "# for k in k_list:\n",
        "#         clf_knn = neighbors.KNeighborsClassifier(n_neighbors=k)\n",
        "#         clf_knn.fit(X_train, y_train)\n",
        "\n",
        "#         # Test the classifier on the training data and plot\n",
        "#         score_train = clf_knn.score(X_train, y_train)\n",
        "#         score_val = clf_knn.score(X_val, y_val)\n",
        "    \n",
        "#         train_scores.append(score_train)\n",
        "#         validation_scores.append(score_val)\n",
        "    \n",
        "#     all_train.append(train_scores)\n",
        "#     all_val.append(validation_scores)\n",
        "    \n",
        "# # Create numpy array of scores and calculate the mean and std\n",
        "# all_train = np.array(all_train)\n",
        "# all_val = np.array(all_val)\n",
        "\n",
        "# train_scores_mean = all_train.mean(axis=0)\n",
        "# train_scores_std = all_train.std(axis=0)\n",
        "\n",
        "# val_scores_mean = all_val.mean(axis=0)\n",
        "# val_scores_std = all_val.std(axis=0)\n",
        "\n",
        "# # Plot the mean scores and the std as shading\n",
        "# fig = plt.figure(figsize=(8,8))\n",
        "# ax = fig.add_subplot(111)\n",
        "# ax.grid()\n",
        "# ax.fill_between(k_list, train_scores_mean - train_scores_std,\n",
        "#                      train_scores_mean + train_scores_std, alpha=0.1,\n",
        "#                      color=\"r\")\n",
        "# ax.fill_between(k_list, val_scores_mean - val_scores_std,\n",
        "#                      val_scores_mean + val_scores_std, alpha=0.1,\n",
        "#                      color=\"g\")\n",
        "# ax.plot(k_list, train_scores_mean, 'o-', color=\"r\",\n",
        "#         label=\"Training score\")\n",
        "# ax.plot(k_list, val_scores_mean, 'o-', color=\"g\",\n",
        "#         label=\"Validation score\")\n"
      ],
      "metadata": {
        "id": "hzGous2XmClP"
      },
      "execution_count": 174,
      "outputs": []
    },
    {
      "cell_type": "markdown",
      "source": [
        "### Univariate Feature Selection "
      ],
      "metadata": {
        "id": "22keSkOv408B"
      }
    },
    {
      "cell_type": "code",
      "source": [
        "from sklearn.feature_selection import SelectKBest, f_classif\n",
        "import matplotlib.pyplot as plt\n",
        "import math \n",
        "\n",
        "bestfeatures = SelectKBest(score_func=f_classif, k=len(data_designset_norm.columns))\n",
        "fit = bestfeatures.fit(data_designset_norm, label_designset)\n",
        "dfscores = pd.DataFrame(fit.scores_)\n",
        "dfcolumns = pd.DataFrame(data_designset_norm.columns)\n",
        "\n",
        "feature_scores = pd.concat([dfcolumns,dfscores],axis=1)\n",
        "feature_scores.columns = ['Specs','Score']  \n",
        "feature_scores = feature_scores.sort_values('Score')\n",
        "highest_feature_score = feature_scores['Score'].iloc[-1]\n",
        "threshold_feature_relative = 0.7                                                  # Optimization of parameter is needed\n",
        "threshold_feature_score = threshold_feature_relative*highest_feature_score\n",
        "criteria = feature_scores['Score']>=threshold_feature_score\n",
        "\n",
        "feature_selection_names = []\n",
        "for i in range(0,len(feature_scores['Score'])):\n",
        "  if feature_scores['Score'].iloc[i]>=threshold_feature_score:\n",
        "    feature_selection_names.append(feature_scores['Specs'].iloc[i])\n",
        "\n",
        "selected_data_designset_norm = data_designset_norm[feature_selection_names]\n",
        "\n",
        "# print(feature_scores.nlargest(50,'Score'))  \n"
      ],
      "metadata": {
        "id": "aCGpuJGg46OH"
      },
      "execution_count": 140,
      "outputs": []
    },
    {
      "cell_type": "code",
      "source": [
        "import numpy as np\n",
        "from sklearn.model_selection import StratifiedKFold, GridSearchCV\n",
        "from sklearn import neighbors, metrics\n",
        "import seaborn\n",
        "\n",
        "# # Create a X fold stratified CV iterator\n",
        "# cv_outer = StratifiedKFold(n_splits=10)\n",
        "# results = []\n",
        "# best_n_neighbors = []\n",
        "\n",
        "# Loop over the folds\n",
        "for validation_index, test_index in cv_outer.split(features, labels):\n",
        "    \n",
        "\t\t# Split the data properly\n",
        "    data_train_val = features.to_numpy()[validation_index]\n",
        "    label_train_val = labels.to_numpy()[validation_index]\n",
        "   \n",
        "    data_test = features.to_numpy()[test_index]\n",
        "    label_test = labels.to_numpy()[test_index]\n",
        "\n",
        "    # Check the stratification \n",
        "    # percent_AD_train = (label_train_val == 'AD').sum()/len(label_train_val)*100\n",
        "    # percent_CN_train = (label_train_val == 'CN').sum()/len(label_train_val)*100\n",
        "    # percent_AD_test = (label_test == 'AD').sum()/len(label_test)*100\n",
        "    # percent_CN_test = (label_test == 'CN').sum()/len(label_test)*100\n",
        "    # print(f\"{percent_AD_train:.2f}% of the train data are Alzheimer disease samples.\")\n",
        "    # print(f\"{percent_CN_train:.2f}% of the train data are control samples.\")\n",
        "    # print(f\"{percent_AD_test:.2f}% of the test data are Alzheimer disease samples.\")\n",
        "    # print(f\"{percent_CN_test:.2f}% of the test data are control samples.\")\n",
        "    \n",
        "    # Create a grid search to find the optimal k using a gridsearch and 10-fold cross validation\n",
        "    # Same as above\n",
        "    parameters = {\"n_neighbors\": list(range(1, 10, 2))}\n",
        "    knn = neighbors.KNeighborsClassifier()\n",
        "    cv_inner = StratifiedKFold(n_splits=10)\n",
        "    grid_search = GridSearchCV(knn, parameters, cv=cv_inner.split(data_train_val, label_train_val), scoring='accuracy')\n",
        "    grid_search.fit(data_train_val, label_train_val)\n",
        "    \n",
        "    # Get resulting classifier\n",
        "    clf = grid_search.best_estimator_\n",
        "    print(f'Best classifier: k={clf.n_neighbors}')\n",
        "    best_n_neighbors.append(clf.n_neighbors)\n",
        "\n",
        "# \t\t# Test the classifier on the test data\n",
        "#     probabilities = clf.predict_proba(data_test)\n",
        "#     scores = probabilities[:, 1]\n",
        "    \n",
        "#     # Get the auc\n",
        "#     auc = metrics.roc_auc_score(label_test, scores)\n",
        "#     results.append({\n",
        "#         'auc': auc,\n",
        "#         'k': clf.n_neighbors,\n",
        "#         'set': 'test'\n",
        "#     })\n",
        "    \n",
        "    # Test the classifier on the validation data\n",
        "    probabilities_train_val = clf.predict_proba(data_train_val)\n",
        "    scores_train_val = probabilities_train_val[:, 1]\n",
        "    \n",
        "    # Get the auc\n",
        "    auc_validation = metrics.roc_auc_score(label_train_val, scores_train_val)\n",
        "    results.append({\n",
        "        'auc': auc_validation,\n",
        "        'k': clf.n_neighbors,\n",
        "        'set': 'validation'\n",
        "    })\n",
        "# Create results dataframe and plot it\n",
        "results = pd.DataFrame(results)\n",
        "seaborn.boxplot(y='auc', x='set', data=results)\n",
        "\n",
        "optimal_n = int(np.median(best_n_neighbors))\n",
        "print(f\"The optimal N={optimal_n}\")"
      ],
      "metadata": {
        "id": "AgRXmCdaox_F",
        "outputId": "3563182d-7f41-4988-f496-2757e5719569",
        "colab": {
          "base_uri": "https://localhost:8080/",
          "height": 470
        }
      },
      "execution_count": null,
      "outputs": [
        {
          "output_type": "stream",
          "name": "stdout",
          "text": [
            "Best classifier: k=15\n",
            "Best classifier: k=21\n",
            "Best classifier: k=11\n",
            "Best classifier: k=9\n",
            "Best classifier: k=13\n",
            "Best classifier: k=13\n",
            "Best classifier: k=23\n",
            "Best classifier: k=11\n",
            "Best classifier: k=13\n",
            "Best classifier: k=17\n",
            "The optimal N=13\n"
          ]
        },
        {
          "output_type": "display_data",
          "data": {
            "text/plain": [
              "<Figure size 432x288 with 1 Axes>"
            ],
            "image/png": "[encoded data removed]"
          },
          "metadata": {
            "needs_background": "light"
          }
        }
      ]
    },
    {
      "cell_type": "markdown",
      "source": [
        "# Classifiers\n",
        "## PCA"
      ],
      "metadata": {
        "id": "0W9tsVcxvTKO"
      }
    },
    {
      "cell_type": "code",
      "source": [
        "# General Import\n",
        "from sklearn.decomposition import PCA\n",
        "\n",
        "# Create a PCA which retains n principle components\n",
        "n_pca = 5\n",
        "pca = PCA(n_components=n_pca)\n",
        "\n",
        "# Fit the PCA model, point_data_train should be a 2D numpy array\n",
        "# which has one row per subject and the pointdata as columns where\n",
        "# the columns are x1, y1, z1, x2, y2, z2, ..., xn, yn, zn\n",
        "pca.fit(data_trainset)\n",
        "\n",
        "# Transform data\n",
        "data_trainset_trans = pca.transform(data_trainset)\n"
      ],
      "metadata": {
        "id": "C_vMuvALvpNs"
      },
      "execution_count": null,
      "outputs": []
    }
  ]
}