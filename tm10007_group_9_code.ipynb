{
  "nbformat": 4,
  "nbformat_minor": 0,
  "metadata": {
    "colab": {
      "name": "tm10007_group_9_code.ipynb",
      "provenance": [],
      "collapsed_sections": [],
      "toc_visible": true,
      "include_colab_link": true
    },
    "kernelspec": {
      "name": "python3",
      "display_name": "Python 3"
    },
    "language_info": {
      "name": "python"
    }
  },
  "cells": [
    {
      "cell_type": "markdown",
      "metadata": {
        "id": "view-in-github",
        "colab_type": "text"
      },
      "source": [
        "<a href=\"https://colab.research.google.com/github/MarshaKamsteeg/TM10007_Machine_Learning_Group_Assignment/blob/main/tm10007_group_9_code.ipynb\" target=\"_parent\"><img src=\"https://colab.research.google.com/assets/colab-badge.svg\" alt=\"Open In Colab\"/></a>"
      ]
    },
    {
      "cell_type": "markdown",
      "metadata": {
        "id": "7SXpaKwwGe5x"
      },
      "source": [
        "# TM10007 Assignment"
      ]
    },
    {
      "cell_type": "code",
      "execution_count": 5,
      "metadata": {
        "id": "CiDn2Sk-VWqE",
        "colab": {
          "base_uri": "https://localhost:8080/"
        },
        "outputId": "d87d6565-4826-497a-821f-01e8db1b6de2"
      },
      "outputs": [
        {
          "output_type": "stream",
          "name": "stdout",
          "text": [
            "  Building wheel for brats (setup.py) ... \u001b[?25l\u001b[?25hdone\n"
          ]
        }
      ],
      "source": [
        "# Run this to use from colab environment\n",
        "!pip install -q --upgrade git+https://github.com/karinvangarderen/tm10007_project.git"
      ]
    },
    {
      "cell_type": "markdown",
      "metadata": {
        "id": "ghYv2pEkF8Eg"
      },
      "source": [
        "## Data loading and cleaning\n",
        "\n",
        "Below are functions to load the dataset of your choice. After that, it is all up to you to create and evaluate a classification method. Beware, there may be missing values in these datasets. Good luck!"
      ]
    },
    {
      "cell_type": "code",
      "execution_count": 8,
      "metadata": {
        "id": "-NE_fTbKGe5z",
        "outputId": "8ba36ce0-7d97-437e-abd2-9925e3c57f83",
        "colab": {
          "base_uri": "https://localhost:8080/"
        }
      },
      "outputs": [
        {
          "output_type": "stream",
          "name": "stdout",
          "text": [
            "                     hf_energy  hf_entropy  hf_kurtosis    hf_max   hf_mean  \\\n",
            "ID                                                                            \n",
            "0_002_S_0413_bl_0  5403.229408    4.679203     2.392463  2.040475  1.375697   \n",
            "0_002_S_0559_bl_0   922.459760    4.772376     1.709731  1.437500  0.863074   \n",
            "0_002_S_0619_bl_0  1674.765276    5.369472    -1.051024  1.691528  0.744530   \n",
            "0_002_S_0685_bl_0  3443.797200    4.613089     3.404878  1.775424  1.236849   \n",
            "0_002_S_0816_bl_0   914.469846    4.647179     3.574511  1.453932  0.949651   \n",
            "...                        ...         ...          ...       ...       ...   \n",
            "0_941_S_4292_bl_0  1503.564446    4.490768     2.368284  1.724321  1.094387   \n",
            "0_941_S_4365_bl_0  1087.136508    4.929075     0.284622  1.582494  0.859611   \n",
            "0_941_S_4376_bl_0  1963.323949    4.619950     2.012379  1.794024  1.167033   \n",
            "0_941_S_5124_bl_0  2392.983035    5.139234    -0.655371  2.023878  1.051669   \n",
            "0_941_S_5193_bl_0  2350.828850    4.568731     1.704839  1.599965  1.067737   \n",
            "\n",
            "                   hf_median    hf_min  hf_peak  hf_quartile_range  hf_range  \\\n",
            "ID                                                                             \n",
            "0_002_S_0413_bl_0   1.487644 -0.062859      429           0.364471  2.103334   \n",
            "0_002_S_0559_bl_0   0.940709 -0.247543      412           0.347258  1.685042   \n",
            "0_002_S_0619_bl_0   0.938191 -0.478300      187           1.081807  2.169828   \n",
            "0_002_S_0685_bl_0   1.308478  0.062127      419           0.311673  1.713297   \n",
            "0_002_S_0816_bl_0   1.010272 -0.144106      363           0.320707  1.598038   \n",
            "...                      ...       ...      ...                ...       ...   \n",
            "0_941_S_4292_bl_0   1.097217  0.353424      312           0.338568  1.370897   \n",
            "0_941_S_4365_bl_0   0.987315 -0.347672      312           0.526742  1.930166   \n",
            "0_941_S_4376_bl_0   1.206801  0.168814      270           0.365045  1.625210   \n",
            "0_941_S_5124_bl_0   1.234400 -0.236655      216           0.891965  2.260533   \n",
            "0_941_S_5193_bl_0   1.084064  0.372575      264           0.316676  1.227390   \n",
            "\n",
            "                   ...  vf_Frangi_inner_kurtosis_SR(1.0, 10.0)_SS2.0  \\\n",
            "ID                 ...                                                 \n",
            "0_002_S_0413_bl_0  ...                                      4.283295   \n",
            "0_002_S_0559_bl_0  ...                                      2.048344   \n",
            "0_002_S_0619_bl_0  ...                                      2.129459   \n",
            "0_002_S_0685_bl_0  ...                                      0.678418   \n",
            "0_002_S_0816_bl_0  ...                                     -0.756966   \n",
            "...                ...                                           ...   \n",
            "0_941_S_4292_bl_0  ...                                      2.546910   \n",
            "0_941_S_4365_bl_0  ...                                      1.285397   \n",
            "0_941_S_4376_bl_0  ...                                      1.503238   \n",
            "0_941_S_5124_bl_0  ...                                      3.427993   \n",
            "0_941_S_5193_bl_0  ...                                      4.706761   \n",
            "\n",
            "                   vf_Frangi_inner_max_SR(1.0, 10.0)_SS2.0  \\\n",
            "ID                                                           \n",
            "0_002_S_0413_bl_0                             1.930203e-09   \n",
            "0_002_S_0559_bl_0                             1.189167e-09   \n",
            "0_002_S_0619_bl_0                             1.683421e-09   \n",
            "0_002_S_0685_bl_0                             1.853995e-10   \n",
            "0_002_S_0816_bl_0                             1.225707e-09   \n",
            "...                                                    ...   \n",
            "0_941_S_4292_bl_0                             9.792177e-10   \n",
            "0_941_S_4365_bl_0                             1.173355e-09   \n",
            "0_941_S_4376_bl_0                             4.483208e-10   \n",
            "0_941_S_5124_bl_0                             5.550519e-10   \n",
            "0_941_S_5193_bl_0                             6.146113e-10   \n",
            "\n",
            "                  vf_Frangi_inner_mean_SR(1.0, 10.0)_SS2.0  \\\n",
            "ID                                                           \n",
            "0_002_S_0413_bl_0                             4.762307e-10   \n",
            "0_002_S_0559_bl_0                             3.678934e-10   \n",
            "0_002_S_0619_bl_0                             5.235571e-10   \n",
            "0_002_S_0685_bl_0                             4.602008e-11   \n",
            "0_002_S_0816_bl_0                             4.043265e-10   \n",
            "...                                                    ...   \n",
            "0_941_S_4292_bl_0                             2.269858e-10   \n",
            "0_941_S_4365_bl_0                             3.692482e-10   \n",
            "0_941_S_4376_bl_0                             1.257173e-10   \n",
            "0_941_S_5124_bl_0                             1.029807e-10   \n",
            "0_941_S_5193_bl_0                             1.462682e-10   \n",
            "\n",
            "                   vf_Frangi_inner_median_SR(1.0, 10.0)_SS2.0  \\\n",
            "ID                                                              \n",
            "0_002_S_0413_bl_0                                3.147900e-10   \n",
            "0_002_S_0559_bl_0                                3.325169e-10   \n",
            "0_002_S_0619_bl_0                                4.105990e-10   \n",
            "0_002_S_0685_bl_0                                1.540497e-11   \n",
            "0_002_S_0816_bl_0                                2.996961e-10   \n",
            "...                                                       ...   \n",
            "0_941_S_4292_bl_0                                1.275302e-10   \n",
            "0_941_S_4365_bl_0                                2.729788e-10   \n",
            "0_941_S_4376_bl_0                                8.605877e-11   \n",
            "0_941_S_5124_bl_0                                4.791478e-12   \n",
            "0_941_S_5193_bl_0                                1.284941e-10   \n",
            "\n",
            "                   vf_Frangi_inner_min_SR(1.0, 10.0)_SS2.0  \\\n",
            "ID                                                           \n",
            "0_002_S_0413_bl_0                             1.195016e-10   \n",
            "0_002_S_0559_bl_0                             6.933179e-13   \n",
            "0_002_S_0619_bl_0                             7.585248e-11   \n",
            "0_002_S_0685_bl_0                             3.387661e-13   \n",
            "0_002_S_0816_bl_0                             1.493024e-17   \n",
            "...                                                    ...   \n",
            "0_941_S_4292_bl_0                            5.469078e-123   \n",
            "0_941_S_4365_bl_0                             2.274326e-24   \n",
            "0_941_S_4376_bl_0                             9.895392e-17   \n",
            "0_941_S_5124_bl_0                             0.000000e+00   \n",
            "0_941_S_5193_bl_0                             0.000000e+00   \n",
            "\n",
            "                   vf_Frangi_inner_peak_SR(1.0, 10.0)_SS2.0  \\\n",
            "ID                                                            \n",
            "0_002_S_0413_bl_0                                         8   \n",
            "0_002_S_0559_bl_0                                        11   \n",
            "0_002_S_0619_bl_0                                        33   \n",
            "0_002_S_0685_bl_0                                         4   \n",
            "0_002_S_0816_bl_0                                         8   \n",
            "...                                                     ...   \n",
            "0_941_S_4292_bl_0                                        35   \n",
            "0_941_S_4365_bl_0                                        40   \n",
            "0_941_S_4376_bl_0                                        23   \n",
            "0_941_S_5124_bl_0                                        28   \n",
            "0_941_S_5193_bl_0                                        19   \n",
            "\n",
            "                   vf_Frangi_inner_quartile_range_SR(1.0, 10.0)_SS2.0  \\\n",
            "ID                                                                      \n",
            "0_002_S_0413_bl_0                                       4.503026e-10    \n",
            "0_002_S_0559_bl_0                                       4.380055e-10    \n",
            "0_002_S_0619_bl_0                                       5.472382e-10    \n",
            "0_002_S_0685_bl_0                                       5.488386e-11    \n",
            "0_002_S_0816_bl_0                                       6.765193e-10    \n",
            "...                                                              ...    \n",
            "0_941_S_4292_bl_0                                       3.636393e-10    \n",
            "0_941_S_4365_bl_0                                       4.407750e-10    \n",
            "0_941_S_4376_bl_0                                       1.722120e-10    \n",
            "0_941_S_5124_bl_0                                       1.235549e-10    \n",
            "0_941_S_5193_bl_0                                       1.917720e-10    \n",
            "\n",
            "                   vf_Frangi_inner_range_SR(1.0, 10.0)_SS2.0  \\\n",
            "ID                                                             \n",
            "0_002_S_0413_bl_0                               1.810702e-09   \n",
            "0_002_S_0559_bl_0                               1.188474e-09   \n",
            "0_002_S_0619_bl_0                               1.607568e-09   \n",
            "0_002_S_0685_bl_0                               1.850608e-10   \n",
            "0_002_S_0816_bl_0                               1.225707e-09   \n",
            "...                                                      ...   \n",
            "0_941_S_4292_bl_0                               9.792177e-10   \n",
            "0_941_S_4365_bl_0                               1.173355e-09   \n",
            "0_941_S_4376_bl_0                               4.483207e-10   \n",
            "0_941_S_5124_bl_0                               5.550519e-10   \n",
            "0_941_S_5193_bl_0                               6.146113e-10   \n",
            "\n",
            "                   vf_Frangi_inner_skewness_SR(1.0, 10.0)_SS2.0  \\\n",
            "ID                                                                \n",
            "0_002_S_0413_bl_0                                      2.003542   \n",
            "0_002_S_0559_bl_0                                      1.231615   \n",
            "0_002_S_0619_bl_0                                      1.389308   \n",
            "0_002_S_0685_bl_0                                      1.427118   \n",
            "0_002_S_0816_bl_0                                      0.802724   \n",
            "...                                                         ...   \n",
            "0_941_S_4292_bl_0                                      1.593950   \n",
            "0_941_S_4365_bl_0                                      1.175030   \n",
            "0_941_S_4376_bl_0                                      1.283195   \n",
            "0_941_S_5124_bl_0                                      2.009843   \n",
            "0_941_S_5193_bl_0                                      1.864718   \n",
            "\n",
            "                   vf_Frangi_inner_std_SR(1.0, 10.0)_SS2.0  \n",
            "ID                                                          \n",
            "0_002_S_0413_bl_0                             4.207831e-10  \n",
            "0_002_S_0559_bl_0                             3.137258e-10  \n",
            "0_002_S_0619_bl_0                             4.219847e-10  \n",
            "0_002_S_0685_bl_0                             5.954654e-11  \n",
            "0_002_S_0816_bl_0                             4.174750e-10  \n",
            "...                                                    ...  \n",
            "0_941_S_4292_bl_0                             2.792072e-10  \n",
            "0_941_S_4365_bl_0                             3.406526e-10  \n",
            "0_941_S_4376_bl_0                             1.294541e-10  \n",
            "0_941_S_5124_bl_0                             1.737102e-10  \n",
            "0_941_S_5193_bl_0                             1.505707e-10  \n",
            "\n",
            "[855 rows x 268 columns]\n",
            "The number of samples: 855\n",
            "The number of columns: 268\n"
          ]
        }
      ],
      "source": [
        "# Import Data\n",
        "from adni.load_data import load_data\n",
        "\n",
        "\n",
        "data = load_data()\n",
        "\n",
        "\n",
        "print(f'The number of samples: {len(data.index)}')\n",
        "print(f'The number of columns: {len(data.columns)}')\n",
        "\n"
      ]
    }
  ]
}