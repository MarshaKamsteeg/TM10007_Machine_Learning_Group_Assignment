{
  "nbformat": 4,
  "nbformat_minor": 0,
  "metadata": {
    "colab": {
      "name": "tm10007_group_9_code.ipynb",
      "provenance": [],
      "collapsed_sections": [],
      "toc_visible": true,
      "include_colab_link": true
    },
    "kernelspec": {
      "name": "python3",
      "display_name": "Python 3"
    },
    "language_info": {
      "name": "python"
    }
  },
  "cells": [
    {
      "cell_type": "markdown",
      "metadata": {
        "id": "view-in-github",
        "colab_type": "text"
      },
      "source": [
        "<a href=\"https://colab.research.google.com/github/MarshaKamsteeg/TM10007_Machine_Learning_Group_Assignment/blob/main/tm10007_group_9_code.ipynb\" target=\"_parent\"><img src=\"https://colab.research.google.com/assets/colab-badge.svg\" alt=\"Open In Colab\"/></a>"
      ]
    },
    {
      "cell_type": "markdown",
      "metadata": {
        "id": "7SXpaKwwGe5x"
      },
      "source": [
        "# TM10007 Assignment"
      ]
    },
    {
      "cell_type": "code",
      "execution_count": null,
      "metadata": {
        "id": "CiDn2Sk-VWqE",
        "colab": {
          "base_uri": "https://localhost:8080/"
        },
        "outputId": "3fde51b3-b4b4-4bf0-ddc7-123a2531449e"
      },
      "outputs": [
        {
          "output_type": "stream",
          "name": "stdout",
          "text": [
            "  Building wheel for brats (setup.py) ... \u001b[?25l\u001b[?25hdone\n"
          ]
        }
      ],
      "source": [
        "# Run this to use from colab environment\n",
        "!pip install -q --upgrade git+https://github.com/karinvangarderen/tm10007_project.git"
      ]
    },
    {
      "cell_type": "markdown",
      "metadata": {
        "id": "ghYv2pEkF8Eg"
      },
      "source": [
        "## Description of data set\n",
        "\n",
        "Below are functions to load the dataset of your choice. After that, it is all up to you to create and evaluate a classification method. Beware, there may be missing values in these datasets. Good luck!"
      ]
    },
    {
      "cell_type": "code",
      "execution_count": null,
      "metadata": {
        "id": "-NE_fTbKGe5z",
        "outputId": "83242bfa-277d-4347-b50a-888054dca0bb",
        "colab": {
          "base_uri": "https://localhost:8080/"
        }
      },
      "outputs": [
        {
          "output_type": "stream",
          "name": "stdout",
          "text": [
            "The number of samples: 855\n",
            "The number of columns: 268\n",
            "(array([], dtype=int64), array([], dtype=int64))\n",
            "519\n",
            "336\n"
          ]
        }
      ],
      "source": [
        "# Import Data\n",
        "from adni.load_data import load_data\n",
        "import numpy as np\n",
        "import pandas as pd\n",
        "\n",
        "\n",
        "# Import Data\n",
        "data = load_data()\n",
        "data_pandas = pd.DataFrame(data)\n",
        "headers = data_pandas.keys()\n",
        "labels = data_pandas['label']\n",
        "\n",
        "\n",
        "print(f'The number of samples: {len(data.index)}')\n",
        "print(f'The number of columns: {len(data.columns)}')\n",
        "\n",
        "# Find empty / NaN entry in pandas dataframe\n",
        "data_pan = data_pandas.replace(' ', np.nan) \n",
        "empty_values = np.where(pd.isnull(data_pan))\n",
        "print(empty_values)\n",
        "\n",
        "# Percentage AD and CN\n",
        "percent_AD = data_pandas['label'].value_counts()['AD']\n",
        "percent_CN = data_pandas['label'].value_counts()['CN']\n",
        "print(percent_AD)\n",
        "print(percent_CN)\n"
      ]
    },
    {
      "cell_type": "markdown",
      "source": [
        "# Preprocessing of the data"
      ],
      "metadata": {
        "id": "ZQTiKJ50EHlZ"
      }
    },
    {
      "cell_type": "code",
      "source": [
        "# import modules\n",
        "from sklearn.model_selection import train_test_split\n",
        "\n",
        "# Binarize labels to 0 (CN) and 1 (AD)\n",
        "binair_label = data_pandas['label'].replace(['CN', 'AD'],[0, 1])\n",
        "\n",
        "# Divide data in trainingsset (80%) and testset (20%) using a stratified split\n",
        "\n",
        "# Find columns with only zero's\n",
        "# If 90% of the values in one column is zero --> remove this feature\n",
        "test = data_pandas\n",
        "test_dataframe = test.drop(columns=test.columns[test.eq(0).mean()>0.9])\n",
        "\n",
        "print(f'The number of samples: {len(test_dataframe.index)}')\n",
        "print(f'The number of columns: {len(test_dataframe.columns)}')\n",
        "print(test_dataframe.phasef_phasesym_range_WL3_N5)\n",
        "\n",
        "# Scaling"
      ],
      "metadata": {
        "id": "D-_lSnqzDCao",
        "colab": {
          "base_uri": "https://localhost:8080/"
        },
        "outputId": "a207e003-a48a-457c-9d4d-2738c53aec5b"
      },
      "execution_count": 21,
      "outputs": [
        {
          "output_type": "stream",
          "name": "stdout",
          "text": [
            "The number of samples: 855\n",
            "The number of columns: 262\n",
            "ID\n",
            "0_002_S_0413_bl_0    0.132122\n",
            "0_002_S_0559_bl_0    0.199883\n",
            "0_002_S_0619_bl_0    0.234992\n",
            "0_002_S_0685_bl_0    0.192181\n",
            "0_002_S_0816_bl_0    0.092618\n",
            "                       ...   \n",
            "0_941_S_4292_bl_0    0.000000\n",
            "0_941_S_4365_bl_0    0.178625\n",
            "0_941_S_4376_bl_0    0.084010\n",
            "0_941_S_5124_bl_0    0.359076\n",
            "0_941_S_5193_bl_0    0.097510\n",
            "Name: phasef_phasesym_range_WL3_N5, Length: 855, dtype: float64\n"
          ]
        }
      ]
    }
  ]
}